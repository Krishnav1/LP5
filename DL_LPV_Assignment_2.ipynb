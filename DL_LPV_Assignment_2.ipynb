{
  "nbformat": 4,
  "nbformat_minor": 0,
  "metadata": {
    "colab": {
      "provenance": []
    },
    "kernelspec": {
      "name": "python3",
      "display_name": "Python 3"
    },
    "language_info": {
      "name": "python"
    }
  },
  "cells": [
    {
      "cell_type": "code",
      "execution_count": 1,
      "metadata": {
        "colab": {
          "base_uri": "https://localhost:8080/"
        },
        "id": "QJKArZXCpXkx",
        "outputId": "0ccf6322-2a9e-461d-ca2c-800ec17339e0"
      },
      "outputs": [
        {
          "output_type": "stream",
          "name": "stdout",
          "text": [
            "Downloading data from https://storage.googleapis.com/tensorflow/tf-keras-datasets/imdb.npz\n",
            "17464789/17464789 [==============================] - 0s 0us/step\n"
          ]
        }
      ],
      "source": [
        "from keras.datasets import imdb\n",
        "# Load the data, keeping only 10,000 of the most frequently occuring words\n",
        "(train_data, train_labels), (test_data, test_labels) = imdb.load_data(num_words = 10000)"
      ]
    },
    {
      "cell_type": "code",
      "source": [
        "# Here is a list of maximum indexes in every review\n",
        "print(type([max(sequence) for sequence in train_data]))\n",
        "# Find the maximum of all max indexes\n",
        "max([max(sequence) for sequence in train_data])"
      ],
      "metadata": {
        "colab": {
          "base_uri": "https://localhost:8080/"
        },
        "id": "Wsz-J7l0qFRs",
        "outputId": "c8fd7c3e-2311-4ca1-8035-49b6070f6eaa"
      },
      "execution_count": 2,
      "outputs": [
        {
          "output_type": "stream",
          "name": "stdout",
          "text": [
            "<class 'list'>\n"
          ]
        },
        {
          "output_type": "execute_result",
          "data": {
            "text/plain": [
              "9999"
            ]
          },
          "metadata": {},
          "execution_count": 2
        }
      ]
    },
    {
      "cell_type": "code",
      "source": [
        "# step 1: load the dictionary mappings from word to integer index\n",
        "word_index = imdb.get_word_index()\n",
        "# step 2: reverse word index to map integer indexes to their respective words\n",
        "reverse_word_index = dict([(value, key) for (key, value) in word_index.items()])\n",
        "# Step 3: decode the review, mapping integer indices to words\n",
        "#\n",
        "# indices are off by 3 because 0, 1, and 2 are reserverd indices for \"padding\", \"Start of\n",
        "decoded_review = ' '.join([reverse_word_index.get(i-3, '?') for i in train_data[0]])\n",
        "decoded_review"
      ],
      "metadata": {
        "colab": {
          "base_uri": "https://localhost:8080/",
          "height": 157
        },
        "id": "x2doS3U4qNuk",
        "outputId": "ee718a14-4de0-4178-b7c2-94c1da415172"
      },
      "execution_count": 3,
      "outputs": [
        {
          "output_type": "stream",
          "name": "stdout",
          "text": [
            "Downloading data from https://storage.googleapis.com/tensorflow/tf-keras-datasets/imdb_word_index.json\n",
            "1641221/1641221 [==============================] - 0s 0us/step\n"
          ]
        },
        {
          "output_type": "execute_result",
          "data": {
            "text/plain": [
              "\"? this film was just brilliant casting location scenery story direction everyone's really suited the part they played and you could just imagine being there robert ? is an amazing actor and now the same being director ? father came from the same scottish island as myself so i loved the fact there was a real connection with this film the witty remarks throughout the film were great it was just brilliant so much that i bought the film as soon as it was released for ? and would recommend it to everyone to watch and the fly fishing was amazing really cried at the end it was so sad and you know what they say if you cry at a film it must have been good and this definitely was also ? to the two little boy's that played the ? of norman and paul they were just brilliant children are often left out of the ? list i think because the stars that play them all grown up are such a big profile for the whole film but these children are amazing and should be praised for what they have done don't you think the whole story was so lovely because it was true and was someone's life after all that was shared with us all\""
            ],
            "application/vnd.google.colaboratory.intrinsic+json": {
              "type": "string"
            }
          },
          "metadata": {},
          "execution_count": 3
        }
      ]
    },
    {
      "cell_type": "code",
      "source": [
        "# Vectorize input data\n",
        "import numpy as np\n",
        "def vectorize_sequences(sequences, dimension=10000):\n",
        "    results = np.zeros((len(sequences), dimension)) \n",
        "    for i,sequence in enumerate(sequences):\n",
        "      results[i,sequence] = 1 \n",
        "    return results\n",
        "# Vectorize training Data\n",
        "X_train = vectorize_sequences(train_data)\n",
        "# Vectorize testing Data\n",
        "X_test = vectorize_sequences(test_data)"
      ],
      "metadata": {
        "id": "3VnUAUn1qSTT"
      },
      "execution_count": 6,
      "outputs": []
    },
    {
      "cell_type": "code",
      "source": [
        "X_train[0]"
      ],
      "metadata": {
        "colab": {
          "base_uri": "https://localhost:8080/"
        },
        "id": "TD7PLsnmqrJ9",
        "outputId": "e25ccdc5-c732-4e6e-8a3d-7b58099ba572"
      },
      "execution_count": 7,
      "outputs": [
        {
          "output_type": "execute_result",
          "data": {
            "text/plain": [
              "array([0., 1., 1., ..., 0., 0., 0.])"
            ]
          },
          "metadata": {},
          "execution_count": 7
        }
      ]
    },
    {
      "cell_type": "code",
      "source": [
        "X_train.shape"
      ],
      "metadata": {
        "colab": {
          "base_uri": "https://localhost:8080/"
        },
        "id": "hQwY56XSqsOK",
        "outputId": "8740391a-7280-459c-aca5-948977f4c9cb"
      },
      "execution_count": 8,
      "outputs": [
        {
          "output_type": "execute_result",
          "data": {
            "text/plain": [
              "(25000, 10000)"
            ]
          },
          "metadata": {},
          "execution_count": 8
        }
      ]
    },
    {
      "cell_type": "code",
      "source": [
        "# Vectorize labels\n",
        "y_train = np.asarray(train_labels).astype('float32')\n",
        "y_test = np.asarray(test_labels).astype('float32')"
      ],
      "metadata": {
        "id": "yymYgaejqtxY"
      },
      "execution_count": 9,
      "outputs": []
    },
    {
      "cell_type": "code",
      "source": [
        "from keras import models\n",
        "from keras import layers\n",
        "model = models.Sequential()\n",
        "model.add(layers.Dense(16, activation='relu', input_shape=(10000,)))\n",
        "model.add(layers.Dense(16, activation='relu'))\n",
        "model.add(layers.Dense(1, activation='sigmoid'))"
      ],
      "metadata": {
        "id": "K7KL4ExYqv73"
      },
      "execution_count": 10,
      "outputs": []
    },
    {
      "cell_type": "code",
      "source": [
        "from tensorflow.keras import optimizers\n",
        "from tensorflow.keras import losses\n",
        "from tensorflow.keras import metrics\n",
        "model.compile(optimizer=optimizers.RMSprop(learning_rate=0.001),\n",
        "              loss=losses.binary_crossentropy,\n",
        "              metrics=[metrics.binary_accuracy])"
      ],
      "metadata": {
        "id": "t9NE2HOlst1a"
      },
      "execution_count": 16,
      "outputs": []
    },
    {
      "cell_type": "code",
      "source": [
        "# Input for Validation\n",
        "X_val = X_train[:10000]\n",
        "partial_X_train = X_train[10000:]\n",
        "# Labels for validation\n",
        "y_val = y_train[:10000]\n",
        "partial_y_train = y_train[10000:]"
      ],
      "metadata": {
        "id": "eeZg0JBcrS9Q"
      },
      "execution_count": 11,
      "outputs": []
    },
    {
      "cell_type": "code",
      "source": [
        "history = model.fit(partial_X_train, partial_y_train, epochs=20, batch_size=512, verbose =1, validation_data=(X_val, y_val))"
      ],
      "metadata": {
        "colab": {
          "base_uri": "https://localhost:8080/"
        },
        "id": "66TUmpnxrS4j",
        "outputId": "a7e826ae-2e31-4d2c-bd8f-83879bbe9a39"
      },
      "execution_count": 17,
      "outputs": [
        {
          "output_type": "stream",
          "name": "stdout",
          "text": [
            "Epoch 1/20\n",
            "30/30 [==============================] - 2s 54ms/step - loss: 0.5127 - binary_accuracy: 0.7745 - val_loss: 0.3818 - val_binary_accuracy: 0.8686\n",
            "Epoch 2/20\n",
            "30/30 [==============================] - 1s 33ms/step - loss: 0.3137 - binary_accuracy: 0.8928 - val_loss: 0.3124 - val_binary_accuracy: 0.8797\n",
            "Epoch 3/20\n",
            "30/30 [==============================] - 1s 29ms/step - loss: 0.2353 - binary_accuracy: 0.9203 - val_loss: 0.2834 - val_binary_accuracy: 0.8878\n",
            "Epoch 4/20\n",
            "30/30 [==============================] - 1s 31ms/step - loss: 0.1874 - binary_accuracy: 0.9375 - val_loss: 0.2798 - val_binary_accuracy: 0.8858\n",
            "Epoch 5/20\n",
            "30/30 [==============================] - 1s 31ms/step - loss: 0.1596 - binary_accuracy: 0.9459 - val_loss: 0.3105 - val_binary_accuracy: 0.8773\n",
            "Epoch 6/20\n",
            "30/30 [==============================] - 1s 40ms/step - loss: 0.1363 - binary_accuracy: 0.9546 - val_loss: 0.2871 - val_binary_accuracy: 0.8872\n",
            "Epoch 7/20\n",
            "30/30 [==============================] - 1s 40ms/step - loss: 0.1173 - binary_accuracy: 0.9629 - val_loss: 0.2968 - val_binary_accuracy: 0.8861\n",
            "Epoch 8/20\n",
            "30/30 [==============================] - 3s 101ms/step - loss: 0.0997 - binary_accuracy: 0.9699 - val_loss: 0.3104 - val_binary_accuracy: 0.8847\n",
            "Epoch 9/20\n",
            "30/30 [==============================] - 2s 58ms/step - loss: 0.0888 - binary_accuracy: 0.9738 - val_loss: 0.3260 - val_binary_accuracy: 0.8824\n",
            "Epoch 10/20\n",
            "30/30 [==============================] - 1s 30ms/step - loss: 0.0733 - binary_accuracy: 0.9803 - val_loss: 0.3620 - val_binary_accuracy: 0.8728\n",
            "Epoch 11/20\n",
            "30/30 [==============================] - 1s 32ms/step - loss: 0.0624 - binary_accuracy: 0.9838 - val_loss: 0.3826 - val_binary_accuracy: 0.8771\n",
            "Epoch 12/20\n",
            "30/30 [==============================] - 1s 32ms/step - loss: 0.0596 - binary_accuracy: 0.9843 - val_loss: 0.3936 - val_binary_accuracy: 0.8776\n",
            "Epoch 13/20\n",
            "30/30 [==============================] - 1s 29ms/step - loss: 0.0469 - binary_accuracy: 0.9895 - val_loss: 0.4062 - val_binary_accuracy: 0.8736\n",
            "Epoch 14/20\n",
            "30/30 [==============================] - 1s 32ms/step - loss: 0.0436 - binary_accuracy: 0.9895 - val_loss: 0.4244 - val_binary_accuracy: 0.8757\n",
            "Epoch 15/20\n",
            "30/30 [==============================] - 1s 31ms/step - loss: 0.0339 - binary_accuracy: 0.9939 - val_loss: 0.4703 - val_binary_accuracy: 0.8641\n",
            "Epoch 16/20\n",
            "30/30 [==============================] - 1s 30ms/step - loss: 0.0324 - binary_accuracy: 0.9935 - val_loss: 0.4731 - val_binary_accuracy: 0.8716\n",
            "Epoch 17/20\n",
            "30/30 [==============================] - 1s 28ms/step - loss: 0.0235 - binary_accuracy: 0.9972 - val_loss: 0.4953 - val_binary_accuracy: 0.8726\n",
            "Epoch 18/20\n",
            "30/30 [==============================] - 1s 28ms/step - loss: 0.0213 - binary_accuracy: 0.9973 - val_loss: 0.5269 - val_binary_accuracy: 0.8670\n",
            "Epoch 19/20\n",
            "30/30 [==============================] - 1s 37ms/step - loss: 0.0203 - binary_accuracy: 0.9962 - val_loss: 0.5419 - val_binary_accuracy: 0.8711\n",
            "Epoch 20/20\n",
            "30/30 [==============================] - 2s 57ms/step - loss: 0.0181 - binary_accuracy: 0.9967 - val_loss: 0.5638 - val_binary_accuracy: 0.8696\n"
          ]
        }
      ]
    },
    {
      "cell_type": "code",
      "source": [
        "history_dict = history.history\n",
        "history_dict.keys()"
      ],
      "metadata": {
        "colab": {
          "base_uri": "https://localhost:8080/"
        },
        "id": "_VuqctZSr3Jj",
        "outputId": "4a244493-94c5-46ce-d938-cb3fbfccc7b8"
      },
      "execution_count": 18,
      "outputs": [
        {
          "output_type": "execute_result",
          "data": {
            "text/plain": [
              "dict_keys(['loss', 'binary_accuracy', 'val_loss', 'val_binary_accuracy'])"
            ]
          },
          "metadata": {},
          "execution_count": 18
        }
      ]
    },
    {
      "cell_type": "code",
      "source": [
        "import matplotlib.pyplot as plt\n",
        "%matplotlib inline"
      ],
      "metadata": {
        "id": "vHDaBlWutEM7"
      },
      "execution_count": 19,
      "outputs": []
    },
    {
      "cell_type": "code",
      "source": [
        "# Plotting losses\n",
        "loss_values = history_dict['loss']\n",
        "val_loss_values = history_dict['val_loss']\n",
        "epochs = range(1, len(loss_values) + 1)\n",
        "plt.plot(epochs, loss_values, 'bo', label=\"Training Loss\")\n",
        "plt.plot(epochs, val_loss_values, 'b', label=\"Validation Loss\")\n",
        "plt.title('Training and Validation Loss')\n",
        "plt.xlabel('Epochs')\n",
        "plt.ylabel('Loss Value')\n",
        "plt.legend()\n",
        "plt.show()"
      ],
      "metadata": {
        "colab": {
          "base_uri": "https://localhost:8080/",
          "height": 472
        },
        "id": "LYMyzp6qtF9p",
        "outputId": "2499c8e3-ea94-4609-9d43-ad0b38372e5e"
      },
      "execution_count": 20,
      "outputs": [
        {
          "output_type": "display_data",
          "data": {
            "text/plain": [
              "<Figure size 640x480 with 1 Axes>"
            ],
            "image/png": "[encoded data removed]"
          },
          "metadata": {}
        }
      ]
    },
    {
      "cell_type": "code",
      "source": [
        "# Training and Validation Accuracy\n",
        "acc_values = history_dict['binary_accuracy']\n",
        "val_acc_values = history_dict['val_binary_accuracy']\n",
        "epochs = range(1, len(loss_values) + 1)\n",
        "plt.plot(epochs, acc_values, 'ro', label=\"Training Accuracy\")\n",
        "plt.plot(epochs, val_acc_values, 'r', label=\"Validation Accuracy\")\n",
        "plt.title('Training and Validation Accuraccy')\n",
        "plt.xlabel('Epochs')\n",
        "plt.ylabel('Accuracy')\n",
        "plt.legend()\n",
        "plt.show()"
      ],
      "metadata": {
        "colab": {
          "base_uri": "https://localhost:8080/",
          "height": 472
        },
        "id": "j2Jx-KBptIgo",
        "outputId": "e30e4a50-ff99-4ea9-acb2-f77271b634a8"
      },
      "execution_count": 21,
      "outputs": [
        {
          "output_type": "display_data",
          "data": {
            "text/plain": [
              "<Figure size 640x480 with 1 Axes>"
            ],
            "image/png": "[encoded data removed]"
          },
          "metadata": {}
        }
      ]
    },
    {
      "cell_type": "code",
      "source": [
        "model.fit(partial_X_train, partial_y_train, epochs=3, batch_size=512, validation_data=(X_val, y_val))"
      ],
      "metadata": {
        "colab": {
          "base_uri": "https://localhost:8080/"
        },
        "id": "F_vTc47atMl7",
        "outputId": "59eb479a-1bad-4d4a-8fbb-ec677ddc8572"
      },
      "execution_count": 22,
      "outputs": [
        {
          "output_type": "stream",
          "name": "stdout",
          "text": [
            "Epoch 1/3\n",
            "30/30 [==============================] - 2s 56ms/step - loss: 0.0171 - binary_accuracy: 0.9968 - val_loss: 0.5861 - val_binary_accuracy: 0.8702\n",
            "Epoch 2/3\n",
            "30/30 [==============================] - 2s 56ms/step - loss: 0.0084 - binary_accuracy: 0.9997 - val_loss: 0.6093 - val_binary_accuracy: 0.8704\n",
            "Epoch 3/3\n",
            "30/30 [==============================] - 1s 44ms/step - loss: 0.0151 - binary_accuracy: 0.9962 - val_loss: 0.6229 - val_binary_accuracy: 0.8694\n"
          ]
        },
        {
          "output_type": "execute_result",
          "data": {
            "text/plain": [
              "<keras.callbacks.History at 0x7f0432259d30>"
            ]
          },
          "metadata": {},
          "execution_count": 22
        }
      ]
    },
    {
      "cell_type": "code",
      "source": [
        "# Making Predictions for testing data\n",
        "np.set_printoptions(suppress=True)\n",
        "result = model.predict(X_test)"
      ],
      "metadata": {
        "colab": {
          "base_uri": "https://localhost:8080/"
        },
        "id": "GeB7fidLuq-Q",
        "outputId": "8fb1bb43-daeb-43f2-cbfc-54f9e5120cf6"
      },
      "execution_count": 23,
      "outputs": [
        {
          "output_type": "stream",
          "name": "stdout",
          "text": [
            "782/782 [==============================] - 2s 2ms/step\n"
          ]
        }
      ]
    },
    {
      "cell_type": "code",
      "source": [
        "result"
      ],
      "metadata": {
        "colab": {
          "base_uri": "https://localhost:8080/"
        },
        "id": "qSilNeIyutAT",
        "outputId": "26247802-fadf-4133-d741-764faa878ed6"
      },
      "execution_count": 24,
      "outputs": [
        {
          "output_type": "execute_result",
          "data": {
            "text/plain": [
              "array([[0.00924071],\n",
              "       [1.        ],\n",
              "       [0.7182036 ],\n",
              "       ...,\n",
              "       [0.00220171],\n",
              "       [0.00854362],\n",
              "       [0.781284  ]], dtype=float32)"
            ]
          },
          "metadata": {},
          "execution_count": 24
        }
      ]
    },
    {
      "cell_type": "code",
      "source": [
        "y_pred = np.zeros(len(result))\n",
        "for i, score in enumerate(result):\n",
        "    y_pred[i] = 1 if score > 0.5 else 0"
      ],
      "metadata": {
        "id": "3y12vW70uvbw"
      },
      "execution_count": 26,
      "outputs": []
    },
    {
      "cell_type": "code",
      "source": [
        "from sklearn.metrics import mean_absolute_error\n",
        "mae = mean_absolute_error(y_pred, y_test)"
      ],
      "metadata": {
        "id": "DIq3UTxTu1Hl"
      },
      "execution_count": 27,
      "outputs": []
    },
    {
      "cell_type": "code",
      "source": [
        "# error\n",
        "mae"
      ],
      "metadata": {
        "colab": {
          "base_uri": "https://localhost:8080/"
        },
        "id": "76NAqD4Mu2zp",
        "outputId": "77497d57-c611-4d8c-8a8d-4cca436fb8ce"
      },
      "execution_count": 28,
      "outputs": [
        {
          "output_type": "execute_result",
          "data": {
            "text/plain": [
              "0.1432"
            ]
          },
          "metadata": {},
          "execution_count": 28
        }
      ]
    }
  ]
}